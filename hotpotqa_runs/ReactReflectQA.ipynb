{
 "cells": [
  {
   "cell_type": "code",
   "execution_count": 3,
   "metadata": {},
   "outputs": [],
   "source": [
    "import joblib\n",
    "from react_cls import ReactReflectAgent, format_reflections\n",
    "from mocks import DocStoreExplorerMock, LLMMock"
   ]
  },
  {
   "cell_type": "code",
   "execution_count": 4,
   "metadata": {},
   "outputs": [],
   "source": [
    "def summarize_trial(agents):\n",
    "    correct = [a for a in agents if a.is_correct()]\n",
    "    halted = [a for a in agents if a.is_halted()]\n",
    "    incorrect = [a for a in agents if a.is_finished() and not a.is_correct()]\n",
    "    return correct, incorrect, halted\n",
    "\n",
    "    # (Not correct) and (not halted) and (not finished and correct)\n",
    "def log_trial(agents, trial_n):\n",
    "    correct, incorrect, halted = summarize_trial(agents)\n",
    "\n",
    "    log = f\"\"\"\n",
    "########################################\n",
    "BEGIN TRIAL {trial_n}\n",
    "Trial summary: Correct: {len(correct)}, Incorrect: {len(incorrect)}, Halted: {len(halted)}\n",
    "#######################################\n",
    "\"\"\"\n",
    "\n",
    "    log += '------------- BEGIN CORRECT AGENTS -------------\\n\\n'\n",
    "    for agent in correct:\n",
    "        log += f'Question: {agent.question}{format_reflections(agent.reflections)}{agent.scratchpad}\\nCorrect answer: {agent.key}\\n\\n'\n",
    "\n",
    "    log += '------------- BEGIN INCORRECT AGENTS -----------\\n\\n'\n",
    "    for agent in incorrect:\n",
    "        log += f'Question: {agent.question}{format_reflections(agent.reflections)}{agent.scratchpad}\\nCorrect answer: {agent.key}\\n\\n'\n",
    "\n",
    "    log += '------------- BEGIN HALTED AGENTS --------------\\n\\n'\n",
    "    for agent in halted:\n",
    "        log += f'Question: {agent.question}{format_reflections(agent.reflections)}{agent.scratchpad}\\nCorrect answer: {agent.key}\\n\\n'\n",
    "\n",
    "    return log"
   ]
  },
  {
   "cell_type": "code",
   "execution_count": 5,
   "metadata": {},
   "outputs": [],
   "source": [
    "hotpot = joblib.load('data/hotpot-qa-distractor-sample.joblib').reset_index(drop = True)"
   ]
  },
  {
   "cell_type": "code",
   "execution_count": 6,
   "metadata": {},
   "outputs": [],
   "source": [
    "agents = [ReactReflectAgent(row['question'], row['answer']) for _, row in hotpot.iterrows()]"
   ]
  },
  {
   "cell_type": "code",
   "execution_count": 6,
   "metadata": {},
   "outputs": [],
   "source": [
    "trial = 0\n",
    "log = ''"
   ]
  },
  {
   "cell_type": "code",
   "execution_count": 16,
   "metadata": {},
   "outputs": [],
   "source": [
    "q = 0\n",
    "agents_to_run = [a for a in agents if not a.is_correct()]"
   ]
  },
  {
   "cell_type": "code",
   "execution_count": 17,
   "metadata": {},
   "outputs": [
    {
     "name": "stdout",
     "output_type": "stream",
     "text": [
      "Trial: 4 (0/50)\n",
      "Trial: 4 (1/50)\n",
      "Trial: 4 (2/50)\n",
      "Trial: 4 (3/50)\n",
      "'fullurl'\n",
      "'fullurl'\n",
      "'fullurl'\n",
      "'fullurl'\n",
      "'fullurl'\n",
      "Trial: 4 (4/50)\n",
      "Trial: 4 (5/50)\n",
      "Trial: 4 (6/50)\n",
      "'fullurl'\n",
      "Trial: 4 (7/50)\n",
      "Trial: 4 (8/50)\n",
      "Trial: 4 (9/50)\n",
      "Trial: 4 (10/50)\n",
      "Trial: 4 (11/50)\n",
      "Trial: 4 (12/50)\n",
      "Trial: 4 (13/50)\n",
      "Trial: 4 (14/50)\n",
      "Trial: 4 (15/50)\n",
      "Trial: 4 (16/50)\n",
      "Trial: 4 (17/50)\n",
      "Trial: 4 (18/50)\n",
      "Trial: 4 (19/50)\n",
      "Trial: 4 (20/50)\n",
      "Trial: 4 (21/50)\n",
      "Trial: 4 (22/50)\n",
      "Trial: 4 (23/50)\n",
      "Trial: 4 (24/50)\n",
      "Trial: 4 (25/50)\n",
      "Trial: 4 (26/50)\n",
      "Trial: 4 (27/50)\n",
      "Trial: 4 (28/50)\n",
      "'fullurl'\n",
      "'fullurl'\n",
      "'fullurl'\n",
      "'fullurl'\n",
      "Trial: 4 (29/50)\n",
      "Trial: 4 (30/50)\n",
      "Trial: 4 (31/50)\n",
      "Trial: 4 (32/50)\n",
      "Trial: 4 (33/50)\n",
      "Trial: 4 (34/50)\n",
      "Trial: 4 (35/50)\n",
      "Trial: 4 (36/50)\n",
      "Trial: 4 (37/50)\n",
      "Trial: 4 (38/50)\n",
      "Trial: 4 (39/50)\n",
      "Trial: 4 (40/50)\n",
      "Trial: 4 (41/50)\n",
      "Trial: 4 (42/50)\n",
      "Trial: 4 (43/50)\n",
      "Trial: 4 (44/50)\n",
      "Trial: 4 (45/50)\n",
      "Trial: 4 (46/50)\n",
      "'fullurl'\n",
      "'fullurl'\n",
      "'fullurl'\n",
      "'fullurl'\n",
      "'fullurl'\n",
      "Trial: 4 (47/50)\n",
      "Trial: 4 (48/50)\n",
      "Trial: 4 (49/50)\n",
      "Finished Trial 5, Correct: 51, Incorrect: 35, Halted: 13\n"
     ]
    }
   ],
   "source": [
    "while q < len(agents_to_run):\n",
    "    print(f'Trial: {trial} ({q}/{len(agents_to_run)})')\n",
    "    try:\n",
    "        agents_to_run[q].run()\n",
    "    except:\n",
    "        pass\n",
    "    q += 1\n",
    "\n",
    "trial += 1\n",
    "\n",
    "log += log_trial(agents, trial)\n",
    "correct, incorrect, halted = summarize_trial(agents)\n",
    "print(f'Finished Trial {trial}, Correct: {len(correct)}, Incorrect: {len(incorrect)}, Halted: {len(halted)}')"
   ]
  },
  {
   "cell_type": "code",
   "execution_count": 18,
   "metadata": {},
   "outputs": [],
   "source": [
    "with open('output/reflect/100_questions_5_trials.txt', 'w') as f:\n",
    "    f.write(log)"
   ]
  },
  {
   "cell_type": "code",
   "execution_count": 18,
   "metadata": {},
   "outputs": [
    {
     "data": {
      "text/plain": [
       "['output/reflect/react_reflect_50_correct_dicts.joblib']"
      ]
     },
     "execution_count": 18,
     "metadata": {},
     "output_type": "execute_result"
    }
   ],
   "source": [
    "dicts = [dict(a.__dict__) for a in correct]\n",
    "for d in dicts:\n",
    "    for k, v in d.items():\n",
    "        d[k] = str(v)\n",
    "\n",
    "joblib.dump(dicts, 'output/reflect/react_reflect_50_correct_dicts.joblib')"
   ]
  }
 ],
 "metadata": {
  "kernelspec": {
   "display_name": "env",
   "language": "python",
   "name": "python3"
  },
  "language_info": {
   "codemirror_mode": {
    "name": "ipython",
    "version": 3
   },
   "file_extension": ".py",
   "mimetype": "text/x-python",
   "name": "python",
   "nbconvert_exporter": "python",
   "pygments_lexer": "ipython3",
   "version": "3.8.9"
  },
  "orig_nbformat": 4,
  "vscode": {
   "interpreter": {
    "hash": "e23f799cbd2581634725fbf6ce3480ae26192d78438dfafc8efe944acd6490d5"
   }
  }
 },
 "nbformat": 4,
 "nbformat_minor": 2
}
