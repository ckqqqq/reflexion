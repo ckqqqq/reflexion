{
 "cells": [
  {
   "cell_type": "code",
   "execution_count": 1,
   "metadata": {},
   "outputs": [],
   "source": [
    "import joblib\n",
    "from react_cls import ReactAgent\n",
    "from mocks import DocStoreExplorerMock, LLMMock"
   ]
  },
  {
   "cell_type": "code",
   "execution_count": 3,
   "metadata": {},
   "outputs": [],
   "source": [
    "def summarize_trial(agents):\n",
    "    correct = [a for a in agents if a.is_correct()]\n",
    "    halted = [a for a in agents if a.is_halted()]\n",
    "    incorrect = [a for a in agents if a.is_finished() and not a.is_correct()]\n",
    "    return correct, incorrect, halted\n",
    "\n",
    "def log_trial(agents, trial_n):\n",
    "    correct, incorrect, halted = summarize_trial(agents)\n",
    "\n",
    "    log = f\"\"\"\n",
    "########################################\n",
    "BEGIN TRIAL {trial_n}\n",
    "Trial summary: Correct: {len(correct)}, Incorrect: {len(incorrect)}, Halted: {len(halted)}\n",
    "#######################################\n",
    "\"\"\"\n",
    "\n",
    "    log += '------------- BEGIN CORRECT AGENTS -------------\\n\\n'\n",
    "    for agent in correct:\n",
    "        log += f'Question: {agent.question}{agent.scratchpad}\\nCorrect answer: {agent.key}\\n\\n'\n",
    "\n",
    "    log += '------------- BEGIN INCORRECT AGENTS -----------\\n\\n'\n",
    "    for agent in incorrect:\n",
    "        log += f'Question: {agent.question}{agent.scratchpad}\\nCorrect answer: {agent.key}\\n\\n'\n",
    "\n",
    "    log += '------------- BEGIN HALTED AGENTS --------------\\n\\n'\n",
    "    for agent in halted:\n",
    "        log += f'Question: {agent.question}{agent.scratchpad}\\nCorrect answer: {agent.key}\\n\\n'\n",
    "\n",
    "    return log"
   ]
  },
  {
   "cell_type": "code",
   "execution_count": 4,
   "metadata": {},
   "outputs": [],
   "source": [
    "hotpot = joblib.load('data/hotpot-qa-distractor-sample.joblib').reset_index(drop = True)"
   ]
  },
  {
   "cell_type": "code",
   "execution_count": 5,
   "metadata": {},
   "outputs": [],
   "source": [
    "agents = [ReactAgent(row['question'], row['answer']) for _, row in hotpot.iterrows()]"
   ]
  },
  {
   "cell_type": "code",
   "execution_count": 6,
   "metadata": {},
   "outputs": [],
   "source": [
    "trial = 0\n",
    "log = ''"
   ]
  },
  {
   "cell_type": "code",
   "execution_count": 21,
   "metadata": {},
   "outputs": [],
   "source": [
    "q = 0"
   ]
  },
  {
   "cell_type": "code",
   "execution_count": 22,
   "metadata": {},
   "outputs": [
    {
     "name": "stdout",
     "output_type": "stream",
     "text": [
      "Trial: 4 (0/66)\n",
      "Trial: 4 (1/66)\n",
      "Trial: 4 (2/66)\n",
      "Trial: 4 (3/66)\n",
      "Trial: 4 (4/66)\n",
      "Trial: 4 (5/66)\n",
      "Trial: 4 (6/66)\n",
      "Trial: 4 (7/66)\n",
      "Trial: 4 (8/66)\n",
      "Trial: 4 (9/66)\n",
      "Trial: 4 (10/66)\n",
      "Trial: 4 (11/66)\n",
      "Trial: 4 (12/66)\n",
      "Trial: 4 (13/66)\n",
      "Trial: 4 (14/66)\n",
      "Trial: 4 (15/66)\n",
      "Trial: 4 (16/66)\n",
      "Trial: 4 (17/66)\n",
      "Trial: 4 (18/66)\n",
      "Trial: 4 (19/66)\n",
      "Trial: 4 (20/66)\n",
      "Trial: 4 (21/66)\n",
      "Trial: 4 (22/66)\n",
      "Trial: 4 (23/66)\n",
      "Trial: 4 (24/66)\n",
      "Trial: 4 (25/66)\n",
      "Trial: 4 (26/66)\n",
      "Trial: 4 (27/66)\n",
      "Trial: 4 (28/66)\n",
      "Trial: 4 (29/66)\n",
      "Trial: 4 (30/66)\n",
      "Trial: 4 (31/66)\n",
      "Trial: 4 (32/66)\n",
      "Trial: 4 (33/66)\n",
      "Trial: 4 (34/66)\n",
      "Trial: 4 (35/66)\n",
      "Trial: 4 (36/66)\n",
      "Trial: 4 (37/66)\n",
      "Trial: 4 (38/66)\n",
      "Trial: 4 (39/66)\n",
      "Trial: 4 (40/66)\n",
      "Trial: 4 (41/66)\n",
      "Trial: 4 (42/66)\n",
      "Trial: 4 (43/66)\n",
      "Trial: 4 (44/66)\n",
      "Trial: 4 (45/66)\n",
      "Trial: 4 (46/66)\n",
      "Trial: 4 (47/66)\n",
      "Trial: 4 (48/66)\n",
      "Trial: 4 (49/66)\n",
      "Trial: 4 (50/66)\n",
      "Trial: 4 (51/66)\n",
      "Trial: 4 (52/66)\n",
      "Trial: 4 (53/66)\n",
      "Trial: 4 (54/66)\n",
      "Trial: 4 (55/66)\n",
      "Trial: 4 (56/66)\n",
      "Trial: 4 (57/66)\n",
      "Trial: 4 (58/66)\n",
      "Trial: 4 (59/66)\n",
      "Trial: 4 (60/66)\n",
      "Trial: 4 (61/66)\n",
      "Trial: 4 (62/66)\n",
      "Trial: 4 (63/66)\n",
      "Trial: 4 (64/66)\n",
      "Trial: 4 (65/66)\n",
      "Finished Trial 5, Correct: 34, Incorrect: 56, Halted: 12\n"
     ]
    }
   ],
   "source": [
    "agents_to_run = [a for a in agents if not a.is_correct()]\n",
    "\n",
    "while q < len(agents_to_run):\n",
    "    print(f'Trial: {trial} ({q}/{len(agents_to_run)})')\n",
    "    agents_to_run[q].run()\n",
    "    q += 1\n",
    "\n",
    "trial += 1\n",
    "\n",
    "log += log_trial(agents, trial)\n",
    "correct, incorrect, halted = summarize_trial(agents)\n",
    "print(f'Finished Trial {trial}, Correct: {len(correct)}, Incorrect: {len(incorrect)}, Halted: {len(halted)}')"
   ]
  },
  {
   "cell_type": "code",
   "execution_count": 23,
   "metadata": {},
   "outputs": [],
   "source": [
    "with open('output/base_react/100_questions_5_trials.txt', 'w') as f:\n",
    "    f.write(log)"
   ]
  },
  {
   "cell_type": "code",
   "execution_count": 26,
   "metadata": {},
   "outputs": [
    {
     "data": {
      "text/plain": [
       "['output/base_react_dicts.joblib']"
      ]
     },
     "execution_count": 26,
     "metadata": {},
     "output_type": "execute_result"
    }
   ],
   "source": [
    "dicts = [dict(a.__dict__) for a in agents]\n",
    "for d in dicts:\n",
    "    for k, v in d.items():\n",
    "        d[k] = str(v)\n",
    "\n",
    "joblib.dump(dicts, 'output/base_react_dicts.joblib')"
   ]
  }
 ],
 "metadata": {
  "kernelspec": {
   "display_name": "env",
   "language": "python",
   "name": "python3"
  },
  "language_info": {
   "codemirror_mode": {
    "name": "ipython",
    "version": 3
   },
   "file_extension": ".py",
   "mimetype": "text/x-python",
   "name": "python",
   "nbconvert_exporter": "python",
   "pygments_lexer": "ipython3",
   "version": "3.8.9"
  },
  "orig_nbformat": 4,
  "vscode": {
   "interpreter": {
    "hash": "e23f799cbd2581634725fbf6ce3480ae26192d78438dfafc8efe944acd6490d5"
   }
  }
 },
 "nbformat": 4,
 "nbformat_minor": 2
}
